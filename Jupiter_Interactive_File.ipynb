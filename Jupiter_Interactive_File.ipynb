{
 "cells": [
  {
   "cell_type": "markdown",
   "id": "2b8a7b94",
   "metadata": {},
   "source": [
    "Tarrot"
   ]
  },
  {
   "cell_type": "code",
   "execution_count": null,
   "id": "18a85826",
   "metadata": {},
   "outputs": [],
   "source": [
    "numbers = ['1', '2', '3', '4', '5', '6', '7', '8', '9', '10', '11', '12', '13', '14', '15', '16', '17', '18', '19', '20', '21', '22', '23' '24', '25', '26', '27', '28', '29', '30', '31', '32', '33', '34', '35', '36', '37', '38', '39', '40', '41', '42']\n",
    "print(numbers)\n",
    "print(numbers[-1])"
   ]
  }
 ],
 "metadata": {
  "kernelspec": {
   "display_name": "Python 3",
   "language": "python",
   "name": "python3"
  },
  "language_info": {
   "name": "python",
   "version": "3.13.0"
  }
 },
 "nbformat": 4,
 "nbformat_minor": 5
}
